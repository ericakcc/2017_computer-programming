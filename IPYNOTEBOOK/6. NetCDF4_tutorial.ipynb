{
 "cells": [
  {
   "cell_type": "markdown",
   "metadata": {},
   "source": [
    "# NetCDF4之應用\n",
    "使用之前，記得要在電腦裝好這個套件  \n",
    "**conda install -c conda-forge netcdf4**  \n",
    "參考資料 : http://unidata.github.io/netcdf4-python/\n",
    "\n",
    "### 使用方法:\n",
    "* 讀取nc檔\n",
    "* 應用(積分)\n",
    "\n",
    "<hr size=\"5\"/>"
   ]
  },
  {
   "cell_type": "code",
   "execution_count": 7,
   "metadata": {
    "collapsed": true
   },
   "outputs": [],
   "source": [
    "#跟其他套件一樣，我們必須先import進來\n",
    "from netCDF4 import Dataset\n",
    "import numpy as np # 記得搭配numpy使用\n",
    "import scipy.integrate as integrate"
   ]
  },
  {
   "cell_type": "markdown",
   "metadata": {},
   "source": [
    "### 1. __讀取nc檔__\n",
    "* 將檔頭存取(指標)到rootgrp之後，呼叫此變數可以看到一些需要的資訊\n",
    "* 接著我們可以將我們需要的資訊存到指定的變數中\n",
    "* 存取的檔案型態是numpy.ndarray"
   ]
  },
  {
   "cell_type": "code",
   "execution_count": 2,
   "metadata": {
    "collapsed": true
   },
   "outputs": [],
   "source": [
    "rootgrp = Dataset(\"C:/Users/ericakcc/Desktop/hw2L.qc3d.nc\")"
   ]
  },
  {
   "cell_type": "code",
   "execution_count": 3,
   "metadata": {},
   "outputs": [
    {
     "data": {
      "text/plain": [
       "<class 'netCDF4._netCDF4.Dataset'>\n",
       "root group (NETCDF3_64BIT_OFFSET data model, file format NETCDF3):\n",
       "    model_tag: CSU VVM\n",
       "    references: http://kiwi.atmos.colostate.edu/pubs/joon-hee-tech_report.pdf\n",
       "    contact: jung@atmos.colostate.edu\n",
       "    institution: Colorado State University\n",
       "    VVM_casename: GATE_PHASE_III                                                                  \n",
       "    dimensions(sizes): Time(361), bottom_top(150), south_north(128), west_east(128)\n",
       "    variables(dimensions): float32 \u001b[4mTime\u001b[0m(Time), float64 \u001b[4mzc\u001b[0m(bottom_top), float64 \u001b[4myc\u001b[0m(south_north), float64 \u001b[4mxc\u001b[0m(west_east), float32 \u001b[4mqc\u001b[0m(Time,bottom_top,south_north,west_east)\n",
       "    groups: "
      ]
     },
     "execution_count": 3,
     "metadata": {},
     "output_type": "execute_result"
    }
   ],
   "source": [
    "rootgrp #呼叫檔頭"
   ]
  },
  {
   "cell_type": "code",
   "execution_count": 4,
   "metadata": {
    "collapsed": true
   },
   "outputs": [],
   "source": [
    "qc = rootgrp.variables['qc'][:] #儲存變數\n",
    "z = rootgrp.variables['zc'][:]"
   ]
  },
  {
   "cell_type": "code",
   "execution_count": 5,
   "metadata": {},
   "outputs": [
    {
     "data": {
      "text/plain": [
       "numpy.ndarray"
      ]
     },
     "execution_count": 5,
     "metadata": {},
     "output_type": "execute_result"
    }
   ],
   "source": [
    "type(qc) #檔案型態必須注意"
   ]
  },
  {
   "cell_type": "markdown",
   "metadata": {},
   "source": [
    "### 2. __積分__\n",
    "* 恩...就是積分(老師你可以自己改XDDDD(或是叫我改...))"
   ]
  },
  {
   "cell_type": "code",
   "execution_count": 8,
   "metadata": {},
   "outputs": [],
   "source": [
    "qc_inter = integrate.simps(qc,z,axis=1) #垂直積分"
   ]
  }
 ],
 "metadata": {
  "kernelspec": {
   "display_name": "Python 3",
   "language": "python",
   "name": "python3"
  },
  "language_info": {
   "codemirror_mode": {
    "name": "ipython",
    "version": 3
   },
   "file_extension": ".py",
   "mimetype": "text/x-python",
   "name": "python",
   "nbconvert_exporter": "python",
   "pygments_lexer": "ipython3",
   "version": "3.6.2"
  }
 },
 "nbformat": 4,
 "nbformat_minor": 2
}
