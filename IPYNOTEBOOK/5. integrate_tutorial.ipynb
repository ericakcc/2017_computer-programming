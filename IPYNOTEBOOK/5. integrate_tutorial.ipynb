{
 "cells": [
  {
   "cell_type": "markdown",
   "metadata": {},
   "source": [
    "# 積分\n",
    "* Scipy套件\n",
    " * Scipy.integrate.quad \n",
    " * Scipy.integrate.simps\n",
    "* __自訂function積分__\n",
    " * midpoint(xlist, value_list)\n",
    " * trapz(f,a,b,N)\n",
    "\n",
    "<hr size=\"5\"/>\n",
    "\n",
    "    首先定義想要積分的東西，我這邊使用一個簡單的二次函數\n",
    "    以下的範例以x作為被積分維度的長度(dx)  \n",
    "    積出下面二次函數的面積  \n",
    "    解析解 : 343.3333333333333333333"
   ]
  },
  {
   "cell_type": "code",
   "execution_count": 1,
   "metadata": {
    "collapsed": true
   },
   "outputs": [],
   "source": [
    "import numpy as np\n",
    "import scipy.integrate as integrate # scipy的積分套件\n",
    "import matplotlib.pyplot as plt"
   ]
  },
  {
   "cell_type": "code",
   "execution_count": 2,
   "metadata": {
    "collapsed": true
   },
   "outputs": [],
   "source": [
    "f = lambda x : x**2 + 1\n",
    "x = np.linspace(0,10,100)"
   ]
  },
  {
   "cell_type": "code",
   "execution_count": 3,
   "metadata": {},
   "outputs": [
    {
     "data": {
      "image/png": "[encoded data removed]",
      "text/plain": [
       "<matplotlib.figure.Figure at 0x27f01966908>"
      ]
     },
     "metadata": {},
     "output_type": "display_data"
    }
   ],
   "source": [
    "#視覺化\n",
    "plt.figure(figsize=(6,6))\n",
    "plt.plot(yo,f(yo))\n",
    "plt.vlines(yo[0],-10,f(yo)[7],colors='r')\n",
    "plt.vlines(yo[-1],-10,f(yo)[-1],colors='r')\n",
    "plt.hlines(0,yo[0],yo[-1],colors='r')\n",
    "plt.xlim(-0.1,10.1)\n",
    "plt.ylim(-0.18,100.1)\n",
    "plt.show()"
   ]
  },
  {
   "cell_type": "markdown",
   "metadata": {},
   "source": [
    "* __使用Scipy的套件積分__  \n",
    "\n",
    "\n",
    "    * integrate.quad(func, a, b) \n",
    "  \n",
    "  \n",
    "           input一個function，及起始積分位置、末端積分位置  \n",
    "           output積分值、誤差估計  \n",
    "\n",
    "\n",
    " \n",
    "\n",
    "\n",
    "參考資料 : https://docs.scipy.org/doc/scipy/reference/generated/scipy.integrate.quad.html"
   ]
  },
  {
   "cell_type": "code",
   "execution_count": 4,
   "metadata": {},
   "outputs": [
    {
     "data": {
      "text/plain": [
       "(343.33333333333337, 3.811765717879704e-12)"
      ]
     },
     "execution_count": 4,
     "metadata": {},
     "output_type": "execute_result"
    }
   ],
   "source": [
    "area = integrate.quad(f, 0, 10)\n",
    "area  "
   ]
  },
  {
   "cell_type": "markdown",
   "metadata": {},
   "source": [
    "* __使用Scipy的套件積分__  \n",
    "\n",
    "\n",
    "    * integrate.simps(y, x=None, dx=1, axis=-1, even='avg')\n",
    "  \n",
    "  \n",
    "           input要被積分的物件、dx的長度(也可以丟list or array)、要積分的維度\n",
    "\n",
    "\n",
    "\n",
    "參考資料 : https://docs.scipy.org/doc/scipy-0.14.0/reference/generated/scipy.integrate.simps.html"
   ]
  },
  {
   "cell_type": "code",
   "execution_count": 5,
   "metadata": {},
   "outputs": [
    {
     "data": {
      "text/plain": [
       "343.33350510169203"
      ]
     },
     "execution_count": 5,
     "metadata": {},
     "output_type": "execute_result"
    }
   ],
   "source": [
    "integrate.simps(f(yo),yo)"
   ]
  },
  {
   "cell_type": "markdown",
   "metadata": {},
   "source": [
    "* __自訂function積分__  \n",
    "\n",
    "\n",
    "    * trapz(f,a,b,N) 梯形法\n",
    "    * midpoint(xlist, value_list) 中差分法\n",
    "    * 這只是範例，大家可以自己寫\n",
    "  "
   ]
  },
  {
   "cell_type": "code",
   "execution_count": 6,
   "metadata": {
    "collapsed": true
   },
   "outputs": [],
   "source": [
    "def trapz(f,a,b,N):\n",
    " \n",
    "    \"\"\"\n",
    "    Approximate the definite integral of f(x) from a to b by the \n",
    "    composite trapezoidal rule, using N subintervals\n",
    " \n",
    "    For example:\n",
    "    trapz(lambda x: x**2+2*x+1,0.0,3.0,100)\n",
    "    \"\"\"\n",
    "    return (b-a)*(float(f(a)+f(b))/2+sum([float(f(a+(b-a)*k/N)) for k in np.arange(1,N)]))/N\n",
    "    "
   ]
  },
  {
   "cell_type": "code",
   "execution_count": 7,
   "metadata": {
    "collapsed": true
   },
   "outputs": [],
   "source": [
    "def midpoint(xlist, value_list):\n",
    "    \"\"\"\n",
    "    input two array\n",
    "    \"\"\"\n",
    "    dx = (xlist[-1] - xlist[0])/len(xlist)\n",
    "    sum = 0\n",
    "    for i,j in zip(value_list[1:], value_list[0:-1]):\n",
    "        a = (i+j)/2 * dx\n",
    "        sum += a\n",
    "    return sum"
   ]
  },
  {
   "cell_type": "code",
   "execution_count": 8,
   "metadata": {},
   "outputs": [
    {
     "data": {
      "text/plain": [
       "343.3500000000001"
      ]
     },
     "execution_count": 8,
     "metadata": {},
     "output_type": "execute_result"
    }
   ],
   "source": [
    "trapz(f,0,10,100)"
   ]
  },
  {
   "cell_type": "code",
   "execution_count": 9,
   "metadata": {},
   "outputs": [
    {
     "data": {
      "text/plain": [
       "339.91683501683508"
      ]
     },
     "execution_count": 9,
     "metadata": {},
     "output_type": "execute_result"
    }
   ],
   "source": [
    "midpoint(yo,f(yo))"
   ]
  }
 ],
 "metadata": {
  "kernelspec": {
   "display_name": "Python 3",
   "language": "python",
   "name": "python3"
  },
  "language_info": {
   "codemirror_mode": {
    "name": "ipython",
    "version": 3
   },
   "file_extension": ".py",
   "mimetype": "text/x-python",
   "name": "python",
   "nbconvert_exporter": "python",
   "pygments_lexer": "ipython3",
   "version": "3.6.2"
  }
 },
 "nbformat": 4,
 "nbformat_minor": 2
}
