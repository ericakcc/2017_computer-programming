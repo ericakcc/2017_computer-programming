{
 "cells": [
  {
   "cell_type": "markdown",
   "metadata": {},
   "source": [
    "# Function \n",
    "\n",
    "Fuction 是一段結構化、可重複使用的程式碼，有易懂、易讀、好維護的特性。\n",
    "\n",
    "\n",
    "而Python中有很多__built-in__的functions像是__print()__，而你也可以自己創造一個自己的function，而自己定義的function被稱做__user-defined functions__\n",
    "\n",
    "### Defining a Function  \n",
    "#### 規則 ：   \n",
    " \n",
    "* Function block 以 __def__ 做開頭，後面緊跟著Function名稱以及小括弧()\n",
    "\n",
    "* 任何傳入的變數必須放在小括弧中\n",
    "\n",
    "* 必須要有 \":\"\n",
    "\n",
    "* 必須要在一個block裡寫完(tab)\n",
    "\n",
    "\n",
    "*我也看不懂我在寫啥，反正規則如下 : *\n",
    "\n",
    "### Syntax"
   ]
  },
  {
   "cell_type": "code",
   "execution_count": 1,
   "metadata": {
    "collapsed": true
   },
   "outputs": [],
   "source": [
    "def functionname( parameters ):\n",
    "    \"function_docstring\"\n",
    "    function_suite\n",
    "    return [expression]"
   ]
  },
  {
   "cell_type": "markdown",
   "metadata": {},
   "source": [
    "### Example"
   ]
  },
  {
   "cell_type": "code",
   "execution_count": 2,
   "metadata": {
    "collapsed": true
   },
   "outputs": [],
   "source": [
    "def printhaha():\n",
    "    print(\"haha\")"
   ]
  },
  {
   "cell_type": "markdown",
   "metadata": {},
   "source": [
    "### 同場加映class範例 stack\n",
    "* class是另外一種python中另外一種結構，若要程式更結構化、可讀性更高、更好維護，可以試著使用看看\n",
    "\n",
    "參考連結 : https://zh.wikipedia.org/wiki/%E5%A0%86%E6%A0%88"
   ]
  },
  {
   "cell_type": "code",
   "execution_count": 4,
   "metadata": {},
   "outputs": [],
   "source": [
    "class Stack(object):\n",
    "    \n",
    "    def __init__(self):\n",
    "        self.items = []\n",
    "        \n",
    "    def isEmpty(self):\n",
    "        return self.items == []\n",
    "    \n",
    "    def push(self,item):\n",
    "        self.items.append(item)\n",
    "        \n",
    "    def pop(self):\n",
    "        return self.items.pop()\n",
    "    \n",
    "    def peek(self):\n",
    "        return self.items[len(self.items)-1]\n",
    "    \n",
    "    def size(self):\n",
    "        return len(self.items)"
   ]
  }
 ],
 "metadata": {
  "kernelspec": {
   "display_name": "Python 3",
   "language": "python",
   "name": "python3"
  },
  "language_info": {
   "codemirror_mode": {
    "name": "ipython",
    "version": 3
   },
   "file_extension": ".py",
   "mimetype": "text/x-python",
   "name": "python",
   "nbconvert_exporter": "python",
   "pygments_lexer": "ipython3",
   "version": "3.6.2"
  }
 },
 "nbformat": 4,
 "nbformat_minor": 2
}
