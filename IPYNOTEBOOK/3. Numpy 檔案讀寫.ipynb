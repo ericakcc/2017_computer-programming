{
 "cells": [
  {
   "cell_type": "markdown",
   "metadata": {},
   "source": [
    "# Numpy 之檔案讀寫\n",
    "\n",
    "* np.savetxt / np.loadtxt\n",
    "* np.save / np.savez /  np.load\n",
    "\n",
    "\n",
    "在numpy中有很多處理矩陣(array)資料的方法，而這裡我們主要涵蓋比較常用的一些方式。\n",
    "\n",
    "\n",
    "首先 我們要使用numpy moudule裡的東西必須要import"
   ]
  },
  {
   "cell_type": "code",
   "execution_count": 1,
   "metadata": {
    "collapsed": true
   },
   "outputs": [],
   "source": [
    "import numpy as np"
   ]
  },
  {
   "cell_type": "markdown",
   "metadata": {},
   "source": [
    "注意 : 以下實之範例都以一個2d-array作為例子。  \n",
    "而其是一個由0~100填滿之二維陣列，其生成方式如下"
   ]
  },
  {
   "cell_type": "code",
   "execution_count": 2,
   "metadata": {},
   "outputs": [
    {
     "name": "stdout",
     "output_type": "stream",
     "text": [
      "[[ 0  1  2  3  4  5  6  7  8  9]\n",
      " [10 11 12 13 14 15 16 17 18 19]\n",
      " [20 21 22 23 24 25 26 27 28 29]\n",
      " [30 31 32 33 34 35 36 37 38 39]\n",
      " [40 41 42 43 44 45 46 47 48 49]\n",
      " [50 51 52 53 54 55 56 57 58 59]\n",
      " [60 61 62 63 64 65 66 67 68 69]\n",
      " [70 71 72 73 74 75 76 77 78 79]\n",
      " [80 81 82 83 84 85 86 87 88 89]\n",
      " [90 91 92 93 94 95 96 97 98 99]]\n"
     ]
    }
   ],
   "source": [
    "arr = np.arange(100).reshape(10,10) #2d - array\n",
    "print(arr)"
   ]
  },
  {
   "cell_type": "markdown",
   "metadata": {},
   "source": [
    "<hr size=\"5\"/>\n",
    "### np.savetxt\n",
    "\n",
    "__1. 語法 :__\n",
    "\n",
    ">numpy.savetxt(__fname__, __X__, __fmt='%.18e'__, __delimiter=' '__, __newline='\\n'__, __header=''__, __footer=''__, __comments='# '__)\n",
    "\n",
    "__2. 變數 : __\t\n",
    "\n",
    "* fname : 檔案名稱，若附檔名為*__.gz__*，檔案自動會以*__gzip__*的形式儲存。  \n",
    "\n",
    "\n",
    "* X : 要被儲存之變數名稱    \n",
    "\n",
    "\n",
    "\n",
    "* fmt : 以自訂的格式儲存檔案  \n",
    "\n",
    "\n",
    "\n",
    "* delimiter : 分隔符號  \n",
    "\n",
    "\n",
    "\n",
    "* newline : 隔開新行的符號(在1.5.0.版後開始支援)  \n",
    "\n",
    "\n",
    "\n",
    "* header : 檔頭文字(在1.7.0.版後開始支援)  \n",
    "\n",
    "\n",
    "\n",
    "* footer : 檔尾文字(在1.7.0.版後開始支援)  \n",
    "\n",
    "\n",
    "\n",
    "* comments : 註解文字 預設: ‘# ‘, as expected by e.g. numpy.loadtxt.(在1.7.0.版後開始支援)  \n",
    "\n",
    "\n",
    "\n",
    "參考連結 : https://docs.scipy.org/doc/numpy/reference/generated/numpy.savetxt.html\n"
   ]
  },
  {
   "cell_type": "markdown",
   "metadata": {
    "collapsed": true
   },
   "source": [
    "## <hr size=\"5\"/>\n",
    "### np.loadtxt\n",
    "\n",
    "__1. 語法 :__\n",
    "\n",
    ">numpy.loadtxt(__fname__, __dtype=<type 'float'>__,  __comments='#'__, __delimiter=None__, __converters=None__, __skiprows=0__, __usecols=None__, __unpack=False__, __ndmin=0__)\n",
    "\n",
    "__2. 變數 : __\t\n",
    "\n",
    "* fname : 檔案名稱、路徑，若附檔名為*__.gz__*或__.bz2_，檔案會自動先解壓縮。  \n",
    "\n",
    "* dtype : 檔案形式，預設為float。\n",
    "\n",
    "\n",
    "\n",
    "* comments : 註解。\n",
    "\n",
    "\n",
    "\n",
    "* delimiter : 分隔符號，預設為空白(whitespace)\n",
    "\n",
    "\n",
    "\n",
    "* converters : dict, optional\n",
    "\n",
    "\n",
    "\n",
    "* skiprows : 跳過前面n行\n",
    "\n",
    "\n",
    "\n",
    "* footer : 檔尾文字(在1.7.0.版後開始支援)  \n",
    "\n",
    "\n",
    "\n",
    "* usecols : 讀入的行數\n",
    "\n",
    "\n",
    "\n",
    "* unpack : 結構讀入，If true, x, y, z = loadtxt(...)\n",
    "\n",
    "\n",
    "\n",
    "* ndmin : 讀入之陣列維度，預設是0,1,or2\n",
    "\n",
    "\n",
    "\n",
    "__3. 回傳 : __  \n",
    "\n",
    "* ndarray  \n",
    "\n",
    "參考連結 : https://docs.scipy.org/doc/numpy/reference/generated/numpy.savetxt.html\n"
   ]
  },
  {
   "cell_type": "markdown",
   "metadata": {
    "collapsed": true
   },
   "source": [
    "### Ex. 1\n",
    "\n",
    ">將上面的arr矩陣用__savetxt__存成*text.txt*，再以__np.loadtxt__讀出，並存入物件*hahaha*,最後將*hahaha*印在螢幕上"
   ]
  },
  {
   "cell_type": "code",
   "execution_count": 3,
   "metadata": {
    "collapsed": true
   },
   "outputs": [],
   "source": [
    "np.savetxt('text.txt',arr)"
   ]
  },
  {
   "cell_type": "code",
   "execution_count": 4,
   "metadata": {},
   "outputs": [
    {
     "name": "stdout",
     "output_type": "stream",
     "text": [
      "[[  0.   1.   2.   3.   4.   5.   6.   7.   8.   9.]\n",
      " [ 10.  11.  12.  13.  14.  15.  16.  17.  18.  19.]\n",
      " [ 20.  21.  22.  23.  24.  25.  26.  27.  28.  29.]\n",
      " [ 30.  31.  32.  33.  34.  35.  36.  37.  38.  39.]\n",
      " [ 40.  41.  42.  43.  44.  45.  46.  47.  48.  49.]\n",
      " [ 50.  51.  52.  53.  54.  55.  56.  57.  58.  59.]\n",
      " [ 60.  61.  62.  63.  64.  65.  66.  67.  68.  69.]\n",
      " [ 70.  71.  72.  73.  74.  75.  76.  77.  78.  79.]\n",
      " [ 80.  81.  82.  83.  84.  85.  86.  87.  88.  89.]\n",
      " [ 90.  91.  92.  93.  94.  95.  96.  97.  98.  99.]]\n"
     ]
    }
   ],
   "source": [
    "hahaha = np.loadtxt('text.txt')\n",
    "print(hahaha)"
   ]
  },
  {
   "cell_type": "markdown",
   "metadata": {
    "collapsed": true
   },
   "source": [
    "## <hr size=\"5\"/>\n",
    "### np.save\n",
    "\n",
    "__1. 語法 :__\n",
    "\n",
    ">numpy.loadtxt(__file__, __arr__, __allow_pickle=True__, __fix_imports=True__)\n",
    "\n",
    "__2. 變數 : __\t\n",
    "\n",
    "* fname : 儲存檔案名稱，將會把檔案存成一個__.npy__之二進位形式\n",
    "\n",
    "\n",
    "\n",
    "* allow_pickle : 允許矩陣物件使用python pickles.\n",
    "\n",
    "\n",
    "\n",
    "* fix_imports : bool, optional\n",
    "\n",
    "\n",
    "\n",
    "* arr : array_like data\n",
    "\n",
    "\n",
    "\n",
    "參考連結 : https://docs.scipy.org/doc/numpy/reference/generated/numpy.save.html\n"
   ]
  },
  {
   "cell_type": "markdown",
   "metadata": {
    "collapsed": true
   },
   "source": [
    "## <hr size=\"5\"/>\n",
    "### np.savez\n",
    "\n",
    "__1. 語法 :__\n",
    "\n",
    ">numpy.savez(file, *args, **kwds)\n",
    "儲存多個array在一個__.npz__檔案中\n",
    "\n",
    "__2. 變數 : __\t\n",
    "\n",
    "\t\n",
    "* file : 讀取檔案之路徑\n",
    "\n",
    "\n",
    "* args : Arguments, optional\n",
    "\n",
    "\n",
    "\n",
    "* kwds : Keyword arguments, optional\n",
    "\n",
    "\n",
    "\n",
    "\n",
    "參考連結 : https://docs.scipy.org/doc/numpy/reference/generated/numpy.savez.html"
   ]
  },
  {
   "cell_type": "markdown",
   "metadata": {
    "collapsed": true
   },
   "source": [
    "## <hr size=\"5\"/>\n",
    "### np.load\n",
    "\n",
    "__1. 語法 :__\n",
    "\n",
    ">numpy.load(__file__, __mmap_mode=None__, __allow_pickle=True__, __fix_imports=True__, __encoding='ASCII'__)\n",
    "\n",
    "__2. 變數 : __\t\n",
    "\n",
    "\t\n",
    "* file : 讀取檔案之路徑\n",
    "\n",
    "\n",
    "* mmap_mode : {None, ‘r+’, ‘r’, ‘w+’, ‘c’}, optional\n",
    "\n",
    "\n",
    "* allow_pickle : bool, optional, Default: True\n",
    "\n",
    "\n",
    "* fix_imports : bool, optional\n",
    "\n",
    "\n",
    "* encoding : str, optional, Default: ‘ASCII’\n",
    "\n",
    "\n",
    "\n",
    "__3. 回傳 : __\t\n",
    "\n",
    "* array, tuple, dict, etc.\n",
    "\n",
    "\n",
    "\n",
    "參考連結 : https://docs.scipy.org/doc/numpy/reference/generated/numpy.load.html#numpy.load\n"
   ]
  },
  {
   "cell_type": "markdown",
   "metadata": {
    "collapsed": true
   },
   "source": [
    "### Ex. 2\n",
    "\n",
    ">將上面的arr矩陣用__save__存成*data.npy*，再以__np.load__讀出，並存入物件*hahaha2*，最後將*hahaha2*印在螢幕上"
   ]
  },
  {
   "cell_type": "code",
   "execution_count": 5,
   "metadata": {
    "collapsed": true
   },
   "outputs": [],
   "source": [
    "np.save('data',arr)"
   ]
  },
  {
   "cell_type": "code",
   "execution_count": 6,
   "metadata": {},
   "outputs": [
    {
     "name": "stdout",
     "output_type": "stream",
     "text": [
      "[[ 0  1  2  3  4  5  6  7  8  9]\n",
      " [10 11 12 13 14 15 16 17 18 19]\n",
      " [20 21 22 23 24 25 26 27 28 29]\n",
      " [30 31 32 33 34 35 36 37 38 39]\n",
      " [40 41 42 43 44 45 46 47 48 49]\n",
      " [50 51 52 53 54 55 56 57 58 59]\n",
      " [60 61 62 63 64 65 66 67 68 69]\n",
      " [70 71 72 73 74 75 76 77 78 79]\n",
      " [80 81 82 83 84 85 86 87 88 89]\n",
      " [90 91 92 93 94 95 96 97 98 99]]\n"
     ]
    }
   ],
   "source": [
    "hahaha2 = np.load('./data.npy')\n",
    "print(hahaha2)"
   ]
  }
 ],
 "metadata": {
  "kernelspec": {
   "display_name": "Python 3",
   "language": "python",
   "name": "python3"
  },
  "language_info": {
   "codemirror_mode": {
    "name": "ipython",
    "version": 3
   },
   "file_extension": ".py",
   "mimetype": "text/x-python",
   "name": "python",
   "nbconvert_exporter": "python",
   "pygments_lexer": "ipython3",
   "version": "3.6.2"
  }
 },
 "nbformat": 4,
 "nbformat_minor": 2
}
