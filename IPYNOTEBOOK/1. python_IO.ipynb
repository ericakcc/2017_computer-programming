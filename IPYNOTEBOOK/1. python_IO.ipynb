{
 "cells": [
  {
   "cell_type": "markdown",
   "metadata": {},
   "source": [
    "# File I/O  檔案讀寫\n",
    "\n",
    "*  **python 內建**\n",
    "*  **numpy**\n",
    "<hr size=\"10\"/>"
   ]
  },
  {
   "cell_type": "markdown",
   "metadata": {},
   "source": [
    "### 1. __python 內建__\n",
    "\n",
    "\n",
    "\n",
    "Python使用open()打開檔案\n",
    "\n",
    "語法為\n",
    "f = open('檔案', '格式')\n",
    "\n",
    "Mode|Description\n",
    "-|-\n",
    "r|\tThe file pointer is placed at the beginning of the file. This is the default mode.\n",
    "rb|\tOpens a file for reading only in binary format. The file pointer is placed at the beginning of the file. This is the default mode.\n",
    "r+|\tOpens a file for both reading and writing. The file pointer placed at the beginning of the file.\n",
    "rb+|\tOpens a file for both reading and writing in binary format. The file pointer placed at the beginning of the file.\n",
    "w|\tOpens a file for writing only. Overwrites the file if the file exists. If the file does not exist, creates a new file for writing.\n",
    "wb|\tOpens a file for writing only in binary format. Overwrites the file if the file exists. If the file does not exist, creates a new file for writing.\n",
    "w+|\tOpens a file for both writing and reading. Overwrites the existing file if the file exists. If the file does not exist, creates a new file for reading and writing.\n",
    "wb+|\tOpens a file for both writing and reading in binary format. Overwrites the existing file if the file exists. If the file does not exist, creates a new file for reading and writing.\n",
    "a|\tOpens a file for appending. The file pointer is at the end of the file if the file exists. That is, the file is in the append mode. If the file does not exist, it creates a new file for writing.\n",
    "ab|\tOpens a file for appending in binary format. The file pointer is at the end of the file if the file exists. That is, the file is in the append mode. If the file does not exist, it creates a new file for writing.\n",
    "a+|\tOpens a file for both appending and reading. The file pointer is at the end of the file if the file exists. The file opens in the append mode. If the file does not exist, it creates a new file for reading and writing.\n",
    "ab+|\tOpens a file for both appending and reading in binary format. The file pointer is at the end of the file if the file exists. The file opens in the append mode. If the file does not exist, it creates a new file for reading and writing."
   ]
  },
  {
   "cell_type": "markdown",
   "metadata": {},
   "source": [
    "### The *_file_* Object Attributes\n",
    "Once a file is opened and you have one file object, you can get various information related to that file.\n",
    "\n",
    "Here is a list of all attributes related to file object:\n",
    "\n",
    "Attribute|\tDescription\n",
    ":-:|-|-:|:-:|-\n",
    "file.closed|\tReturns true if file is closed, false otherwise.                                                                \n",
    "file.mode|\tReturns access mode with which file was opened.\n",
    "file.name|\tReturns name of the file.\n"
   ]
  },
  {
   "cell_type": "markdown",
   "metadata": {},
   "source": [
    "## Example"
   ]
  },
  {
   "cell_type": "code",
   "execution_count": 37,
   "metadata": {
    "collapsed": false
   },
   "outputs": [
    {
     "name": "stdout",
     "output_type": "stream",
     "text": [
      "Name of the file:  foo.txt\n",
      "Closed or not :  False\n",
      "Opening mode :  wb\n"
     ]
    }
   ],
   "source": [
    "# Open a file\n",
    "fo = open(\"foo.txt\", \"wb\")\n",
    "print(\"Name of the file: \", fo.name)\n",
    "print(\"Closed or not : \", fo.closed)\n",
    "print(\"Opening mode : \", fo.mode)"
   ]
  },
  {
   "cell_type": "markdown",
   "metadata": {},
   "source": [
    "## The *__close()__* Method\n",
    "The __close()__ method of a file object flushes any unwritten information and closes the file object, after which no more writing can be done.\n",
    "\n",
    "Python automatically closes a file when the reference object of a file is reassigned to another file. It is a good practice to use the __close()__ method to close a file.\n",
    "\n",
    "### Syntax\n",
    "fileObject.close()\n",
    "\n",
    "### Example"
   ]
  },
  {
   "cell_type": "code",
   "execution_count": 12,
   "metadata": {
    "collapsed": false
   },
   "outputs": [
    {
     "name": "stdout",
     "output_type": "stream",
     "text": [
      "Name of the file:  foo.txt\n"
     ]
    }
   ],
   "source": [
    "# Open a file\n",
    "fo = open(\"foo.txt\", \"wb\")\n",
    "print(\"Name of the file: \", fo.name)\n",
    "\n",
    "# Close opend file\n",
    "fo.close()"
   ]
  },
  {
   "cell_type": "markdown",
   "metadata": {},
   "source": [
    "## Reading and Writing Files\n",
    "The file object provides a set of access methods to make our lives easier. We would see how to use read() and write() methods to read and write files.\n",
    "\n",
    "The __write()__ Method\n",
    "The __write()__ method writes any string to an open file. It is important to note that Python strings can have binary data and not just text.\n",
    "\n",
    "The __write()__ method does not add a newline character ('\\n') to the end of the string −\n",
    "\n",
    "### Syntax\n",
    "fileObject.write(string)\n",
    "\n",
    "### Example"
   ]
  },
  {
   "cell_type": "code",
   "execution_count": 39,
   "metadata": {
    "collapsed": false
   },
   "outputs": [],
   "source": [
    "# Open a file\n",
    "fo = open(\"foo.txt\", \"w\")\n",
    "fo.write(\"Python is a great language.\\nYeah its great!!\\n\")\n",
    "\n",
    "# Close opend file\n",
    "fo.close()"
   ]
  },
  {
   "cell_type": "markdown",
   "metadata": {},
   "source": [
    "## The *read()* Method \n",
    "The __read()__ method reads a string from an open file. It is important to note that Python strings can have binary data. apart from text data.\n",
    "__read()__ 可以開啟完整的檔案字串，此處的字串可以是二進位檔案形式，而__open()__ 只是將檔案位置指向記憶體。\n",
    "\n",
    "### Syntax (語法)\n",
    "fileObject.read([count])"
   ]
  },
  {
   "cell_type": "markdown",
   "metadata": {},
   "source": [
    "括號內填入你要讀入的字串長度\n",
    "\n",
    "## Example\n",
    "使用剛才我們寫的txt檔\"foo.txt\""
   ]
  },
  {
   "cell_type": "code",
   "execution_count": 40,
   "metadata": {
    "collapsed": false
   },
   "outputs": [
    {
     "data": {
      "text/plain": [
       "'Python is '"
      ]
     },
     "execution_count": 40,
     "metadata": {},
     "output_type": "execute_result"
    }
   ],
   "source": [
    "fo = open(\"foo.txt\", \"r+\")\n",
    "fo.read(10)"
   ]
  },
  {
   "cell_type": "markdown",
   "metadata": {},
   "source": [
    "## File Positions\n",
    "The *__tell()__* method tells you the current position within the file; in other words, the next read or write will occur at that many bytes from the beginning of the file.\n",
    "\n",
    "The *__seek(offset[, from])__* method changes the current file position. The offset argument indicates the number of bytes to be moved. The from argument specifies the reference position from where the bytes are to be moved.\n",
    "\n",
    "If *from* is set to 0, it means use the beginning of the file as the reference position and 1 means use the current position as the reference position and if it is set to 2 then the end of the file would be taken as the reference position.\n",
    "\n",
    "### Example\n",
    "Let us take a file foo.txt, which we created above."
   ]
  },
  {
   "cell_type": "code",
   "execution_count": 42,
   "metadata": {
    "collapsed": false
   },
   "outputs": [
    {
     "name": "stdout",
     "output_type": "stream",
     "text": [
      "Read String is :  Python is \n",
      "Current file position :  10\n",
      "Again read String is :  Python is \n"
     ]
    }
   ],
   "source": [
    "# Open a file\n",
    "fo = open(\"foo.txt\", \"r+\")\n",
    "str = fo.read(10);\n",
    "print(\"Read String is : \", str)\n",
    "\n",
    "# Check current position\n",
    "position = fo.tell();\n",
    "print(\"Current file position : \", position)\n",
    "\n",
    "# Reposition pointer at the beginning once again\n",
    "position = fo.seek(0, 0);\n",
    "str = fo.read(10);\n",
    "print(\"Again read String is : \", str)\n",
    "# Close opend file\n",
    "fo.close()"
   ]
  }
 ],
 "metadata": {
  "kernelspec": {
   "display_name": "Python 3",
   "language": "python",
   "name": "python3"
  },
  "language_info": {
   "codemirror_mode": {
    "name": "ipython",
    "version": 3
   },
   "file_extension": ".py",
   "mimetype": "text/x-python",
   "name": "python",
   "nbconvert_exporter": "python",
   "pygments_lexer": "ipython3",
   "version": "3.5.3"
  }
 },
 "nbformat": 4,
 "nbformat_minor": 2
}
